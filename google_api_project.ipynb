{
 "cells": [
  {
   "cell_type": "code",
   "execution_count": 6,
   "metadata": {},
   "outputs": [],
   "source": [
    "# Import necessary packages \n",
    "import json\n",
    "import urllib.parse\n",
    "import requests"
   ]
  },
  {
   "cell_type": "code",
   "execution_count": 7,
   "metadata": {},
   "outputs": [],
   "source": [
    "API_KEY = '---'"
   ]
  },
  {
   "cell_type": "code",
   "execution_count": 8,
   "metadata": {},
   "outputs": [
    {
     "name": "stdout",
     "output_type": "stream",
     "text": [
      "Please Enter Address: 10013\n",
      "https://maps.googleapis.com/maps/api/geocode/json?address=10013\n",
      "API Status: OK\n",
      "\n",
      "10013\n",
      "Manhattan\n",
      "New York\n",
      "New York County\n",
      "New York\n",
      "United States\n",
      "\n",
      "New York, NY 10013, USA\n",
      "Please Enter Address: Dulles\n",
      "https://maps.googleapis.com/maps/api/geocode/json?address=Dulles\n",
      "API Status: OK\n",
      "\n",
      "Dulles International Airport\n",
      "1\n",
      "Saarinen Circle\n",
      "Dulles\n",
      "Virginia\n",
      "United States\n",
      "20166\n",
      "\n",
      "Dulles International Airport (IAD), 1 Saarinen Cir, Dulles, VA 20166, USA\n",
      "Please Enter Address: ORF\n",
      "https://maps.googleapis.com/maps/api/geocode/json?address=ORF\n",
      "API Status: OK\n",
      "\n",
      "Norfolk International Airport\n",
      "2200\n",
      "Norview Avenue\n",
      "Norfolk\n",
      "Norfolk\n",
      "Norfolk\n",
      "Virginia\n",
      "United States\n",
      "23518\n",
      "5807\n",
      "\n",
      "Norfolk International Airport (ORF), 2200 Norview Ave, Norfolk, VA 23518, USA\n",
      "Please Enter Address: lhr\n",
      "https://maps.googleapis.com/maps/api/geocode/json?address=lhr\n",
      "API Status: OK\n",
      "\n",
      "Heathrow Airport\n",
      "Longford\n",
      "Greater London\n",
      "England\n",
      "United Kingdom\n",
      "\n",
      "Heathrow Airport (LHR), Longford, UK\n",
      "Please Enter Address: quit\n"
     ]
    }
   ],
   "source": [
    "# Program sends requested address to Google Geocoding API and returns the detailed address information\n",
    "# User enters 'q' or 'quit' to quit from program \n",
    "\n",
    "while True:\n",
    "    address = input('Please Enter Address: ')\n",
    "    \n",
    "    if address == 'quit' or address == 'q':\n",
    "        break\n",
    "    \n",
    "    # Web page address for requests\n",
    "    main_api = 'https://maps.googleapis.com/maps/api/geocode/json?'\n",
    "    url_p = url = main_api + urllib.parse.urlencode({'address': address}) \n",
    "    url = main_api + urllib.parse.urlencode({'address': address}) + '&key=' + API_KEY\n",
    "    print(url_p)\n",
    "    \n",
    "    # Incoming data from API\n",
    "    json_data = requests.get(url).json()\n",
    "    \n",
    "    # Check API Status\n",
    "    json_status = json_data['status']\n",
    "    print('API Status: ' + json_status)\n",
    "    print()\n",
    "    \n",
    "    if json_status == 'OK':\n",
    "        for each in json_data['results'][0]['address_components']:\n",
    "            print(each['long_name'])\n",
    "        formatted_address = json_data['results'][0]['formatted_address']\n",
    "        print()\n",
    "        print(formatted_address)\n"
   ]
  },
  {
   "cell_type": "code",
   "execution_count": null,
   "metadata": {},
   "outputs": [],
   "source": []
  }
 ],
 "metadata": {
  "kernelspec": {
   "display_name": "Python 3",
   "language": "python",
   "name": "python3"
  },
  "language_info": {
   "codemirror_mode": {
    "name": "ipython",
    "version": 3
   },
   "file_extension": ".py",
   "mimetype": "text/x-python",
   "name": "python",
   "nbconvert_exporter": "python",
   "pygments_lexer": "ipython3",
   "version": "3.7.0"
  }
 },
 "nbformat": 4,
 "nbformat_minor": 2
}
